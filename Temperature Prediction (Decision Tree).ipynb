{
 "cells": [
  {
   "cell_type": "code",
   "execution_count": 1,
   "metadata": {},
   "outputs": [],
   "source": [
    "header=[\"outlook\",\"temperature\",\"humidity\",\"wind\",\"decision\"]\n",
    "\n",
    "training_data=[\n",
    "['sunny','hot','high','weak','no'],\n",
    "['sunny','hot','high','strong','no'],\n",
    "['overcast','hot','high','weak','yes'],\n",
    "['rain','mild','high','weak','yes'],\n",
    "['rain','cool','normal','weak','yes'],\n",
    "['rain','cool','normal','strong','no'],\n",
    "['overcast','cool','normal','strong','yes'],\n",
    "['sunny','mild','high','weak','no'],\n",
    "#['sunny','cool','normal','weak','yes'],\n",
    "['rain','mild','normal','weak','yes'],\n",
    "['sunny','mild','normal','strong','yes'],\n",
    "['overcast','mild','high','strong','yes'],\n",
    "['overcast','hot','normal','weak','yes'],\n",
    "#['rain','mild','high','strong','no'],\n",
    "]"
   ]
  },
  {
   "cell_type": "code",
   "execution_count": 2,
   "metadata": {},
   "outputs": [
    {
     "data": {
      "text/plain": [
       "{'overcast', 'rain', 'sunny'}"
      ]
     },
     "execution_count": 2,
     "metadata": {},
     "output_type": "execute_result"
    }
   ],
   "source": [
    "def unique_values(data,col):\n",
    "    return set([row[col] for row in data])\n",
    "\n",
    "unique_values(training_data,0)"
   ]
  },
  {
   "cell_type": "code",
   "execution_count": 3,
   "metadata": {},
   "outputs": [
    {
     "data": {
      "text/plain": [
       "{'no': 4, 'yes': 8}"
      ]
     },
     "execution_count": 3,
     "metadata": {},
     "output_type": "execute_result"
    }
   ],
   "source": [
    "def class_counts(data):\n",
    "    counts={}\n",
    "    for row in data:\n",
    "        label = row[-1]\n",
    "        if label not in counts:\n",
    "            counts[label]=0\n",
    "        counts[label]+=1\n",
    "    return counts\n",
    "\n",
    "class_counts(training_data)"
   ]
  },
  {
   "cell_type": "code",
   "execution_count": 4,
   "metadata": {},
   "outputs": [],
   "source": [
    "class Question:\n",
    "    def __init__(self,column,value): \n",
    "        self.column=column\n",
    "        self.value=value\n",
    "    def match(self,example): \n",
    "        val = example[self.column]\n",
    "        return val == self.value \n",
    "    def __repr__(self):\n",
    "        return \"Is %s %s %s?\"%(header[self.column],\"==\",str(self.value))"
   ]
  },
  {
   "cell_type": "code",
   "execution_count": 5,
   "metadata": {},
   "outputs": [],
   "source": [
    "def partition(rows,question):\n",
    "    true_rows,false_rows = [],[]\n",
    "    for row in rows:\n",
    "        if question.match(row):\n",
    "            true_rows.append(row)\n",
    "        else:\n",
    "            false_rows.append(row)\n",
    "    return true_rows,false_rows"
   ]
  },
  {
   "cell_type": "code",
   "execution_count": 6,
   "metadata": {},
   "outputs": [],
   "source": [
    "def gini(rows):\n",
    "    counts = class_counts(rows)\n",
    "    impurity = 1\n",
    "    for lbl in counts:\n",
    "        prob_of_lbl = counts[lbl]/float(len(rows))\n",
    "        impurity -= prob_of_lbl**2\n",
    "    return impurity"
   ]
  },
  {
   "cell_type": "code",
   "execution_count": 7,
   "metadata": {},
   "outputs": [],
   "source": [
    "def info_gain(left,right,uncertainity):\n",
    "    p = float(len(left)) / (len(left) + len(right))\n",
    "    q = float(len(right)) / (len(left) + len(right))\n",
    "    return uncertainity - p*gini(left) - q*gini(right)"
   ]
  },
  {
   "cell_type": "code",
   "execution_count": 8,
   "metadata": {},
   "outputs": [],
   "source": [
    "def find_best_split(rows):\n",
    "    best_gain = 0\n",
    "    best_question = None\n",
    "    current_uncertainity = gini(rows)\n",
    "    n_features = len(rows[0])-1\n",
    "    for col in range(n_features):\n",
    "        values = unique_values(rows,col)\n",
    "        for val in values:\n",
    "            question = Question(col,val)\n",
    "            true_rows,false_rows = partition(rows,question)\n",
    "            \n",
    "            if len(true_rows)==0 or len(false_rows)==0:\n",
    "                continue\n",
    "            \n",
    "            gain = info_gain(true_rows,false_rows,current_uncertainity)\n",
    "            \n",
    "            if gain >= best_gain:\n",
    "                best_gain,best_question = gain,question\n",
    "    return best_gain,best_question"
   ]
  },
  {
   "cell_type": "code",
   "execution_count": 9,
   "metadata": {},
   "outputs": [],
   "source": [
    "class Leaf:\n",
    "    def __init__(self,rows):\n",
    "        self.predictions = class_counts(rows)\n",
    "        \n",
    "class Decision_Node:\n",
    "    def __init__(self,question,true_branch,false_branch):\n",
    "        self.question = question\n",
    "        self.true_branch = true_branch\n",
    "        self.false_branch = false_branch"
   ]
  },
  {
   "cell_type": "code",
   "execution_count": 10,
   "metadata": {},
   "outputs": [],
   "source": [
    "def build_tree(rows):\n",
    "    gain,question = find_best_split(rows)\n",
    "    if gain==0:\n",
    "        return Leaf(rows)\n",
    "    true_rows,false_rows = partition(rows,question)\n",
    "    true_branch = build_tree(true_rows)\n",
    "    false_branch = build_tree(false_rows)\n",
    "    return Decision_Node(question,true_branch,false_branch)"
   ]
  },
  {
   "cell_type": "code",
   "execution_count": 11,
   "metadata": {},
   "outputs": [],
   "source": [
    "def print_tree(node,spacing=\" \"):\n",
    "    if isinstance(node, Leaf):\n",
    "        print(spacing+\"Predict\",node.predictions)\n",
    "        return\n",
    "    print(spacing + str(node.question))\n",
    "    \n",
    "    print(spacing + '-->True:')\n",
    "    print_tree(node.true_branch,spacing+\"    \")\n",
    "    \n",
    "    print(spacing + '-->False:')\n",
    "    print_tree(node.false_branch,spacing+\"    \")"
   ]
  },
  {
   "cell_type": "code",
   "execution_count": 12,
   "metadata": {},
   "outputs": [],
   "source": [
    "def print_leaf(counts):\n",
    "    total = sum(counts.values())*1.0\n",
    "    probs = {}\n",
    "    for lbl in counts.keys():\n",
    "        probs[lbl] = str(int(counts[lbl]/total * 100)) + \"%\"\n",
    "    return probs"
   ]
  },
  {
   "cell_type": "code",
   "execution_count": 13,
   "metadata": {},
   "outputs": [],
   "source": [
    "def classify(row,node):\n",
    "    if isinstance(node,Leaf):\n",
    "        return node.predictions\n",
    "    \n",
    "    if node.question.match(row):\n",
    "        return classify(row,node.true_branch)\n",
    "    else:\n",
    "        return classify(row,node.false_branch)"
   ]
  },
  {
   "cell_type": "code",
   "execution_count": 14,
   "metadata": {},
   "outputs": [],
   "source": [
    "mytree = build_tree(training_data)"
   ]
  },
  {
   "cell_type": "code",
   "execution_count": 15,
   "metadata": {},
   "outputs": [
    {
     "name": "stdout",
     "output_type": "stream",
     "text": [
      " Is outlook == sunny?\n",
      " -->True:\n",
      "     Is humidity == normal?\n",
      "     -->True:\n",
      "         Predict {'yes': 1}\n",
      "     -->False:\n",
      "         Predict {'no': 3}\n",
      " -->False:\n",
      "     Is wind == strong?\n",
      "     -->True:\n",
      "         Is outlook == rain?\n",
      "         -->True:\n",
      "             Predict {'no': 1}\n",
      "         -->False:\n",
      "             Predict {'yes': 2}\n",
      "     -->False:\n",
      "         Predict {'yes': 5}\n"
     ]
    }
   ],
   "source": [
    "print_tree(mytree)"
   ]
  },
  {
   "cell_type": "code",
   "execution_count": 16,
   "metadata": {},
   "outputs": [],
   "source": [
    "testing_data = [\n",
    "    ['rain','mild','high','strong','no'],\n",
    "    ['sunny','cool','normal','weak','yes'],\n",
    "]"
   ]
  },
  {
   "cell_type": "code",
   "execution_count": 17,
   "metadata": {},
   "outputs": [
    {
     "name": "stdout",
     "output_type": "stream",
     "text": [
      "Actual: no. Predicted: {'no': '100%'}.\n",
      "Actual: yes. Predicted: {'yes': '100%'}.\n"
     ]
    }
   ],
   "source": [
    "for row in testing_data:\n",
    "        print(\"Actual: %s. Predicted: %s.\"%(row[-1],print_leaf(classify(row,mytree))))"
   ]
  }
 ],
 "metadata": {
  "kernelspec": {
   "display_name": "Python 3",
   "language": "python",
   "name": "python3"
  },
  "language_info": {
   "codemirror_mode": {
    "name": "ipython",
    "version": 3
   },
   "file_extension": ".py",
   "mimetype": "text/x-python",
   "name": "python",
   "nbconvert_exporter": "python",
   "pygments_lexer": "ipython3",
   "version": "3.6.4"
  }
 },
 "nbformat": 4,
 "nbformat_minor": 2
}
