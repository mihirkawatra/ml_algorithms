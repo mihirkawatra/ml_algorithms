{
 "cells": [
  {
   "cell_type": "code",
   "execution_count": 8,
   "metadata": {
    "collapsed": true
   },
   "outputs": [],
   "source": [
    "import numpy as np\n",
    "from matplotlib import style\n",
    "import warnings\n",
    "from math import sqrt,floor\n",
    "from collections import Counter\n",
    "import pandas as pd\n",
    "size=50\n",
    "style.use('fivethirtyeight')\n",
    "x = [\"E\",\"B\",\"G\",\"A\",\"S\"]\n",
    "area = np.random.randint(low=100, high=4000, size=size)\n",
    "price = np.random.randint(low=10, high=100, size=size)\n",
    "classes=[]\n",
    "for i in range(size):\n",
    "    classes.append(x[np.random.randint(low=0,high=5,size=1)[0]])"
   ]
  },
  {
   "cell_type": "code",
   "execution_count": 9,
   "metadata": {
    "collapsed": true
   },
   "outputs": [],
   "source": [
    "House_Data = pd.DataFrame({'area' : area,\n",
    " 'price' : price,\n",
    " 'class':classes\n",
    "  }, columns=['area','price', 'class'])\n",
    "test = House_Data[floor(size*0.8):]\n",
    "train = House_Data[:floor(size*0.8)]"
   ]
  },
  {
   "cell_type": "code",
   "execution_count": 10,
   "metadata": {
    "scrolled": true
   },
   "outputs": [],
   "source": [
    "B=[]\n",
    "E=[]\n",
    "A=[]\n",
    "G=[]\n",
    "S=[]\n",
    "for i in range(len(train)):\n",
    "    x = list(train.loc[i])\n",
    "    if(x[2] == 'B'):\n",
    "        B.append(x[:2])\n",
    "    elif(x[2] == 'E'):\n",
    "        E.append(x[:2])\n",
    "    elif(x[2] == 'A'):\n",
    "        A.append(x[:2])\n",
    "    elif(x[2] == 'G'):\n",
    "        G.append(x[:2])\n",
    "    elif(x[2] == 'S'):\n",
    "        S.append(x[:2])\n",
    "dataset = {'E':E,'B':B,'A':A,'G':G,'S':S}"
   ]
  },
  {
   "cell_type": "code",
   "execution_count": 11,
   "metadata": {
    "collapsed": true
   },
   "outputs": [],
   "source": [
    "def k_nearest_neighbors(data , predict, k=4):\n",
    "    if(len(data)>=k):\n",
    "        warnings.warn('K is set to a value less than the size of data')\n",
    "    \n",
    "    distances = []\n",
    "    for group in data:\n",
    "        for features in data[group]:\n",
    "            dist = np.linalg.norm(np.array(features)-np.array(predict))\n",
    "            distances.append([dist,group])\n",
    "    votes = [i[1] for i in sorted(distances)[:k]]\n",
    "    #print(Counter(votes))\n",
    "    return Counter(votes).most_common(1)[0][0]"
   ]
  },
  {
   "cell_type": "code",
   "execution_count": 12,
   "metadata": {
    "collapsed": true
   },
   "outputs": [],
   "source": [
    "#k_nearest_neighbors(dataset,[6000,40],6)\n",
    "def accuracy_check(k):\n",
    "    correct=0\n",
    "    for i in range(len(test)):\n",
    "        x = list(test.loc[floor(size*0.8)+i])\n",
    "        if(k_nearest_neighbors(dataset,x[:2],k)==x[2]):\n",
    "            correct+=1\n",
    "    print(correct)\n",
    "    print(str((correct/(size*0.2))*100)+\"%\")"
   ]
  },
  {
   "cell_type": "code",
   "execution_count": 13,
   "metadata": {},
   "outputs": [
    {
     "name": "stdout",
     "output_type": "stream",
     "text": [
      "1: \n",
      "3\n",
      "30.0%\n",
      "\n",
      "\n",
      "2: \n",
      "3\n",
      "30.0%\n",
      "\n",
      "\n",
      "3: \n",
      "3\n",
      "30.0%\n",
      "\n",
      "\n",
      "4: \n",
      "3\n",
      "30.0%\n",
      "\n",
      "\n",
      "5: \n",
      "4\n",
      "40.0%\n",
      "\n",
      "\n",
      "6: \n",
      "5\n",
      "50.0%\n",
      "\n",
      "\n",
      "7: \n",
      "4\n",
      "40.0%\n",
      "\n",
      "\n",
      "8: \n",
      "4\n",
      "40.0%\n",
      "\n",
      "\n",
      "9: \n",
      "4\n",
      "40.0%\n",
      "\n",
      "\n",
      "10: \n",
      "5\n",
      "50.0%\n",
      "\n",
      "\n"
     ]
    },
    {
     "name": "stderr",
     "output_type": "stream",
     "text": [
      "/home/mihir/anaconda3/lib/python3.6/site-packages/ipykernel_launcher.py:3: UserWarning: K is set to a value less than the size of data\n",
      "  This is separate from the ipykernel package so we can avoid doing imports until\n"
     ]
    }
   ],
   "source": [
    "for i in range(1,11):\n",
    "    print(str(i)+\": \")\n",
    "    accuracy_check(i)\n",
    "    print(\"\\n\")"
   ]
  },
  {
   "cell_type": "code",
   "execution_count": null,
   "metadata": {
    "collapsed": true
   },
   "outputs": [],
   "source": []
  },
  {
   "cell_type": "code",
   "execution_count": null,
   "metadata": {
    "collapsed": true
   },
   "outputs": [],
   "source": []
  },
  {
   "cell_type": "code",
   "execution_count": null,
   "metadata": {
    "collapsed": true
   },
   "outputs": [],
   "source": []
  },
  {
   "cell_type": "code",
   "execution_count": null,
   "metadata": {
    "collapsed": true
   },
   "outputs": [],
   "source": []
  }
 ],
 "metadata": {
  "kernelspec": {
   "display_name": "Python 3",
   "language": "python",
   "name": "python3"
  },
  "language_info": {
   "codemirror_mode": {
    "name": "ipython",
    "version": 3
   },
   "file_extension": ".py",
   "mimetype": "text/x-python",
   "name": "python",
   "nbconvert_exporter": "python",
   "pygments_lexer": "ipython3",
   "version": "3.6.4"
  }
 },
 "nbformat": 4,
 "nbformat_minor": 2
}
